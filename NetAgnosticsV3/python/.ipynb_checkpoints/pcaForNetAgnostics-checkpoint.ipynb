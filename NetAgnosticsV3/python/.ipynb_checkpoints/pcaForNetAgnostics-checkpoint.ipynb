{
 "cells": [
  {
   "cell_type": "code",
   "execution_count": 1,
   "id": "5bca7c99-ae36-4354-a4e0-44b5fde2d9d7",
   "metadata": {},
   "outputs": [],
   "source": [
    "import plotly.express as px\n",
    "from sklearn.decomposition import PCA\n",
    "import zlib, json\n",
    "from base64 import b64encode, b64decode\n",
    "import pandas as pd"
   ]
  },
  {
   "cell_type": "code",
   "execution_count": 2,
   "id": "2c7e7595-63f3-411b-b76e-be144be7eb40",
   "metadata": {},
   "outputs": [],
   "source": [
    "# df = px.data.iris()"
   ]
  },
  {
   "cell_type": "code",
   "execution_count": 3,
   "id": "11a36ebb-ef36-47b9-9ba8-a149d503799a",
   "metadata": {},
   "outputs": [],
   "source": [
    "pca_data = {}\n",
    "raw_data = []"
   ]
  },
  {
   "cell_type": "code",
   "execution_count": 4,
   "id": "2796c238-07a2-427f-962c-6848e7bf134c",
   "metadata": {},
   "outputs": [],
   "source": [
    "path = r\"T:\\\\T\\\\NetAgnosticsv2\\\\src\\\\data\\\\nocona_2023-04-13-2023-04-14.json\""
   ]
  },
  {
   "cell_type": "code",
   "execution_count": 5,
   "id": "6194088b-685c-4086-940c-7413cda7bede",
   "metadata": {},
   "outputs": [],
   "source": [
    "key_factors = ['Fan.Embedded.1A', 'Fan.Embedded.2A', 'Fan.Embedded.3A', 'Fan.Embedded.4A', 'Fan.Embedded.1B', 'Fan.Embedded.2B', 'Fan.Embedded.3B', 'Fan.Embedded.4B', 'MemoryPowerMetrics', 'SystemPowerMetrics', 'iDRAC.Embedded.1#CPU1Temp', 'iDRAC.Embedded.1#CPU2Temp', 'iDRAC.Embedded.1#InletTemp', 'memoryusage', 'memory_used', 'cpu_load', 'job_id', 'cores']"
   ]
  },
  {
   "cell_type": "code",
   "execution_count": 6,
   "id": "9fb736d3-9a8f-476b-bfec-56e53b19141f",
   "metadata": {},
   "outputs": [],
   "source": [
    "def compress_json(data):\n",
    "    return {'base64(zip(o))': b64encode(zlib.compress(json.dumps(data).encode('utf-8'))).decode()}\n",
    "\n",
    "def decompress_json(data):\n",
    "    compressed_json =  data['base64(zip(o))']\n",
    "    return json.loads(zlib.decompress(b64decode(compressed_json)))"
   ]
  },
  {
   "cell_type": "code",
   "execution_count": 7,
   "id": "25d10582-5e1a-4337-996b-bf919d5758be",
   "metadata": {},
   "outputs": [
    {
     "name": "stdout",
     "output_type": "stream",
     "text": [
      "nodes_info 240\n",
      "jobs_info 46104\n",
      "nodes_state 289\n",
      "nodes_alloc 289\n",
      "time_stamp 289\n"
     ]
    }
   ],
   "source": [
    "\n",
    "with open(path, \"r\") as f:\n",
    "    data = f.read()\n",
    "    decompressed_json = decompress_json(json.loads(data))\n",
    "    # print(decompressed_json)\n",
    "    for key, value in decompressed_json.items():\n",
    "        print(key, len(value))\n",
    "    # print(decompressed_json['time_stamp'])"
   ]
  },
  {
   "cell_type": "code",
   "execution_count": 8,
   "id": "e752e62e-22bd-48e5-98c0-320fafab301d",
   "metadata": {},
   "outputs": [
    {
     "ename": "ValueError",
     "evalue": "Length of values (366) does not match length of index (240)",
     "output_type": "error",
     "traceback": [
      "\u001b[1;31m---------------------------------------------------------------------------\u001b[0m",
      "\u001b[1;31mValueError\u001b[0m                                Traceback (most recent call last)",
      "Cell \u001b[1;32mIn[8], line 39\u001b[0m\n\u001b[0;32m     37\u001b[0m     df[key] \u001b[38;5;241m=\u001b[39m data\n\u001b[0;32m     38\u001b[0m df[\u001b[38;5;124m'\u001b[39m\u001b[38;5;124mno_job_id\u001b[39m\u001b[38;5;124m'\u001b[39m] \u001b[38;5;241m=\u001b[39m df[\u001b[38;5;124m'\u001b[39m\u001b[38;5;124mjob_id\u001b[39m\u001b[38;5;124m'\u001b[39m]\u001b[38;5;241m.\u001b[39mapply(\u001b[38;5;28;01mlambda\u001b[39;00m x: \u001b[38;5;28mlen\u001b[39m(x))\n\u001b[1;32m---> 39\u001b[0m \u001b[43mdf\u001b[49m\u001b[43m[\u001b[49m\u001b[38;5;124;43m'\u001b[39;49m\u001b[38;5;124;43mamount_cores\u001b[39;49m\u001b[38;5;124;43m'\u001b[39;49m\u001b[43m]\u001b[49m \u001b[38;5;241m=\u001b[39m df[\u001b[38;5;124m'\u001b[39m\u001b[38;5;124mcores\u001b[39m\u001b[38;5;124m'\u001b[39m]\u001b[38;5;241m.\u001b[39msum()\n\u001b[0;32m     40\u001b[0m raw_data\u001b[38;5;241m.\u001b[39mappend(df\u001b[38;5;241m.\u001b[39mcopy())\n\u001b[0;32m     41\u001b[0m \u001b[38;5;66;03m# print(df.dtypes)\u001b[39;00m\n",
      "File \u001b[1;32mC:\\Python311\\Lib\\site-packages\\pandas\\core\\frame.py:4094\u001b[0m, in \u001b[0;36mDataFrame.__setitem__\u001b[1;34m(self, key, value)\u001b[0m\n\u001b[0;32m   4091\u001b[0m     \u001b[38;5;28mself\u001b[39m\u001b[38;5;241m.\u001b[39m_setitem_array([key], value)\n\u001b[0;32m   4092\u001b[0m \u001b[38;5;28;01melse\u001b[39;00m:\n\u001b[0;32m   4093\u001b[0m     \u001b[38;5;66;03m# set column\u001b[39;00m\n\u001b[1;32m-> 4094\u001b[0m     \u001b[38;5;28;43mself\u001b[39;49m\u001b[38;5;241;43m.\u001b[39;49m\u001b[43m_set_item\u001b[49m\u001b[43m(\u001b[49m\u001b[43mkey\u001b[49m\u001b[43m,\u001b[49m\u001b[43m \u001b[49m\u001b[43mvalue\u001b[49m\u001b[43m)\u001b[49m\n",
      "File \u001b[1;32mC:\\Python311\\Lib\\site-packages\\pandas\\core\\frame.py:4303\u001b[0m, in \u001b[0;36mDataFrame._set_item\u001b[1;34m(self, key, value)\u001b[0m\n\u001b[0;32m   4293\u001b[0m \u001b[38;5;28;01mdef\u001b[39;00m \u001b[38;5;21m_set_item\u001b[39m(\u001b[38;5;28mself\u001b[39m, key, value) \u001b[38;5;241m-\u001b[39m\u001b[38;5;241m>\u001b[39m \u001b[38;5;28;01mNone\u001b[39;00m:\n\u001b[0;32m   4294\u001b[0m \u001b[38;5;250m    \u001b[39m\u001b[38;5;124;03m\"\"\"\u001b[39;00m\n\u001b[0;32m   4295\u001b[0m \u001b[38;5;124;03m    Add series to DataFrame in specified column.\u001b[39;00m\n\u001b[0;32m   4296\u001b[0m \n\u001b[1;32m   (...)\u001b[0m\n\u001b[0;32m   4301\u001b[0m \u001b[38;5;124;03m    ensure homogeneity.\u001b[39;00m\n\u001b[0;32m   4302\u001b[0m \u001b[38;5;124;03m    \"\"\"\u001b[39;00m\n\u001b[1;32m-> 4303\u001b[0m     value, refs \u001b[38;5;241m=\u001b[39m \u001b[38;5;28;43mself\u001b[39;49m\u001b[38;5;241;43m.\u001b[39;49m\u001b[43m_sanitize_column\u001b[49m\u001b[43m(\u001b[49m\u001b[43mvalue\u001b[49m\u001b[43m)\u001b[49m\n\u001b[0;32m   4305\u001b[0m     \u001b[38;5;28;01mif\u001b[39;00m (\n\u001b[0;32m   4306\u001b[0m         key \u001b[38;5;129;01min\u001b[39;00m \u001b[38;5;28mself\u001b[39m\u001b[38;5;241m.\u001b[39mcolumns\n\u001b[0;32m   4307\u001b[0m         \u001b[38;5;129;01mand\u001b[39;00m value\u001b[38;5;241m.\u001b[39mndim \u001b[38;5;241m==\u001b[39m \u001b[38;5;241m1\u001b[39m\n\u001b[0;32m   4308\u001b[0m         \u001b[38;5;129;01mand\u001b[39;00m \u001b[38;5;129;01mnot\u001b[39;00m \u001b[38;5;28misinstance\u001b[39m(value\u001b[38;5;241m.\u001b[39mdtype, ExtensionDtype)\n\u001b[0;32m   4309\u001b[0m     ):\n\u001b[0;32m   4310\u001b[0m         \u001b[38;5;66;03m# broadcast across multiple columns if necessary\u001b[39;00m\n\u001b[0;32m   4311\u001b[0m         \u001b[38;5;28;01mif\u001b[39;00m \u001b[38;5;129;01mnot\u001b[39;00m \u001b[38;5;28mself\u001b[39m\u001b[38;5;241m.\u001b[39mcolumns\u001b[38;5;241m.\u001b[39mis_unique \u001b[38;5;129;01mor\u001b[39;00m \u001b[38;5;28misinstance\u001b[39m(\u001b[38;5;28mself\u001b[39m\u001b[38;5;241m.\u001b[39mcolumns, MultiIndex):\n",
      "File \u001b[1;32mC:\\Python311\\Lib\\site-packages\\pandas\\core\\frame.py:5042\u001b[0m, in \u001b[0;36mDataFrame._sanitize_column\u001b[1;34m(self, value)\u001b[0m\n\u001b[0;32m   5039\u001b[0m     \u001b[38;5;28;01mreturn\u001b[39;00m _reindex_for_setitem(value, \u001b[38;5;28mself\u001b[39m\u001b[38;5;241m.\u001b[39mindex)\n\u001b[0;32m   5041\u001b[0m \u001b[38;5;28;01mif\u001b[39;00m is_list_like(value):\n\u001b[1;32m-> 5042\u001b[0m     \u001b[43mcom\u001b[49m\u001b[38;5;241;43m.\u001b[39;49m\u001b[43mrequire_length_match\u001b[49m\u001b[43m(\u001b[49m\u001b[43mvalue\u001b[49m\u001b[43m,\u001b[49m\u001b[43m \u001b[49m\u001b[38;5;28;43mself\u001b[39;49m\u001b[38;5;241;43m.\u001b[39;49m\u001b[43mindex\u001b[49m\u001b[43m)\u001b[49m\n\u001b[0;32m   5043\u001b[0m \u001b[38;5;28;01mreturn\u001b[39;00m sanitize_array(value, \u001b[38;5;28mself\u001b[39m\u001b[38;5;241m.\u001b[39mindex, copy\u001b[38;5;241m=\u001b[39m\u001b[38;5;28;01mTrue\u001b[39;00m, allow_2d\u001b[38;5;241m=\u001b[39m\u001b[38;5;28;01mTrue\u001b[39;00m), \u001b[38;5;28;01mNone\u001b[39;00m\n",
      "File \u001b[1;32mC:\\Python311\\Lib\\site-packages\\pandas\\core\\common.py:561\u001b[0m, in \u001b[0;36mrequire_length_match\u001b[1;34m(data, index)\u001b[0m\n\u001b[0;32m    557\u001b[0m \u001b[38;5;250m\u001b[39m\u001b[38;5;124;03m\"\"\"\u001b[39;00m\n\u001b[0;32m    558\u001b[0m \u001b[38;5;124;03mCheck the length of data matches the length of the index.\u001b[39;00m\n\u001b[0;32m    559\u001b[0m \u001b[38;5;124;03m\"\"\"\u001b[39;00m\n\u001b[0;32m    560\u001b[0m \u001b[38;5;28;01mif\u001b[39;00m \u001b[38;5;28mlen\u001b[39m(data) \u001b[38;5;241m!=\u001b[39m \u001b[38;5;28mlen\u001b[39m(index):\n\u001b[1;32m--> 561\u001b[0m     \u001b[38;5;28;01mraise\u001b[39;00m \u001b[38;5;167;01mValueError\u001b[39;00m(\n\u001b[0;32m    562\u001b[0m         \u001b[38;5;124m\"\u001b[39m\u001b[38;5;124mLength of values \u001b[39m\u001b[38;5;124m\"\u001b[39m\n\u001b[0;32m    563\u001b[0m         \u001b[38;5;124mf\u001b[39m\u001b[38;5;124m\"\u001b[39m\u001b[38;5;124m(\u001b[39m\u001b[38;5;132;01m{\u001b[39;00m\u001b[38;5;28mlen\u001b[39m(data)\u001b[38;5;132;01m}\u001b[39;00m\u001b[38;5;124m) \u001b[39m\u001b[38;5;124m\"\u001b[39m\n\u001b[0;32m    564\u001b[0m         \u001b[38;5;124m\"\u001b[39m\u001b[38;5;124mdoes not match length of index \u001b[39m\u001b[38;5;124m\"\u001b[39m\n\u001b[0;32m    565\u001b[0m         \u001b[38;5;124mf\u001b[39m\u001b[38;5;124m\"\u001b[39m\u001b[38;5;124m(\u001b[39m\u001b[38;5;132;01m{\u001b[39;00m\u001b[38;5;28mlen\u001b[39m(index)\u001b[38;5;132;01m}\u001b[39;00m\u001b[38;5;124m)\u001b[39m\u001b[38;5;124m\"\u001b[39m\n\u001b[0;32m    566\u001b[0m     )\n",
      "\u001b[1;31mValueError\u001b[0m: Length of values (366) does not match length of index (240)"
     ]
    }
   ],
   "source": [
    "\n",
    "\n",
    "with open(path, \"r\") as f:\n",
    "    data = f.read()\n",
    "    decompressed_json = decompress_json(json.loads(data))\n",
    "    # print(decompressed_json)\n",
    "    # for key, value in decompressed_json.items():\n",
    "    #     print(key, len(value))\n",
    "    # print(decompressed_json['time_stamp'])\n",
    "    for index in range(len(decompressed_json['time_stamp'])):\n",
    "    # for index in range(0,1):\n",
    "        df = pd.DataFrame()\n",
    "    # print(decompressed_json['nodes_info']['cpu-24-55'].keys())\n",
    "        nodes = list(decompressed_json['nodes_info'].keys())\n",
    "        df = pd.DataFrame(nodes, columns=['nodes']) \n",
    "        # key_factors.append(\"no_job_id\")\n",
    "        for key in key_factors:\n",
    "            data = []\n",
    "            for node in nodes:\n",
    "                if key in decompressed_json['nodes_info'][node] and index<len(decompressed_json['nodes_info'][node][key]):\n",
    "                    # print(node, key, index)\n",
    "                    if decompressed_json['nodes_info'][node][key][index] == '':\n",
    "                        data.append(0)\n",
    "                    else:\n",
    "                        data.append(decompressed_json['nodes_info'][node][key][index])\n",
    "                else:\n",
    "                    # print(key)                    \n",
    "                    # if key == \"no_job_id\":\n",
    "                    #     data.append(len(df[\"job_id\"]))\n",
    "                    if key == \"job_id\" or key == \"cores\":\n",
    "                        # print(decompressed_json['nodes_info'][node][key])\n",
    "                        # print(key)\n",
    "                        data.append([])\n",
    "                    # elif key not in decompressed_json['nodes_info'][node]:\n",
    "                    #     print(key, index, node)\n",
    "                    else:\n",
    "                        # print(key, index, len(decompressed_json['nodes_info'][node][key]), decompressed_json['nodes_info'][node][key])\n",
    "                        data.append(0)\n",
    "            df[key] = data\n",
    "        df['no_job_id'] = df['job_id'].apply(lambda x: len(x))\n",
    "        df['amount_cores'] = df['cores'].apply(lambda x: sum(x))\n",
    "        raw_data.append(df.copy())\n",
    "        # print(df.dtypes)\n",
    "        X = df[['Fan.Embedded.1A', 'Fan.Embedded.2A', 'Fan.Embedded.3A', 'Fan.Embedded.4A', 'Fan.Embedded.1B', 'Fan.Embedded.2B', 'Fan.Embedded.3B', 'Fan.Embedded.4B', 'MemoryPowerMetrics', 'SystemPowerMetrics', 'iDRAC.Embedded.1#CPU1Temp', 'iDRAC.Embedded.1#CPU2Temp', 'iDRAC.Embedded.1#InletTemp', 'memoryusage', 'memory_used', 'cpu_load']]\n",
    "        pca = PCA(n_components=2)\n",
    "        components = pca.fit_transform(X)\n",
    "        pca_data[index] = {}\n",
    "        pca_data[index]['nodes'] = nodes\n",
    "        pca_data[index]['no_job_id'] = df['no_job_id'].tolist()\n",
    "        pca_data[index]['pc1'] = components[:, 0]\n",
    "        pca_data[index]['pc2'] = components[:, 1]\n",
    "        # print(pca_data[index])\n",
    "        # pca_data.append(components.copy())\n",
    "        \n",
    "        fig = px.scatter(components, x=0, y=1, color=df['no_job_id'])\n",
    "        fig.show()"
   ]
  },
  {
   "cell_type": "code",
   "execution_count": null,
   "id": "df52ab2c-b92c-4bb9-b9ba-109d1d5a2526",
   "metadata": {},
   "outputs": [],
   "source": [
    "raw_data"
   ]
  },
  {
   "cell_type": "code",
   "execution_count": null,
   "id": "4fa44620-88d3-4b0a-9d3a-9445f3d99e59",
   "metadata": {},
   "outputs": [],
   "source": []
  },
  {
   "cell_type": "code",
   "execution_count": null,
   "id": "f159eac6-1cd8-4dd9-a15c-cfc073b7c9d4",
   "metadata": {},
   "outputs": [],
   "source": [
    "pca_data"
   ]
  },
  {
   "cell_type": "code",
   "execution_count": null,
   "id": "2342de19-82b0-44e7-a23c-53cf92d07da2",
   "metadata": {},
   "outputs": [],
   "source": [
    "import json\n",
    "import numpy as np\n",
    "\n",
    "class NumpyEncoder(json.JSONEncoder):\n",
    "    def default(self, obj):\n",
    "        if isinstance(obj, np.ndarray):\n",
    "            return obj.tolist()\n",
    "        return json.JSONEncoder.default(self, obj)\n",
    "\n",
    "dumped = json.dumps(pca_data, cls=NumpyEncoder)\n",
    "\n",
    "with open(r\"T:\\\\T\\\\NetAgnosticsv2\\\\src\\\\data\\\\pca.json\", 'w') as f:\n",
    "    json.dump(dumped, f)"
   ]
  },
  {
   "cell_type": "code",
   "execution_count": null,
   "id": "2b423407-45d8-4640-a08b-1da1b91addfa",
   "metadata": {},
   "outputs": [],
   "source": [
    "\n",
    "import json\n",
    " \n",
    "# Opening JSON file\n",
    "with open(r\"T:\\\\T\\\\NetAgnosticsv2\\\\src\\\\data\\\\pca.json\", 'r') as openfile:\n",
    " \n",
    "    # Reading from json file\n",
    "    json_object = json.load(openfile)\n",
    " \n",
    "print(json_object)\n",
    "print(type(json_object))"
   ]
  },
  {
   "cell_type": "code",
   "execution_count": null,
   "id": "bf7e0a26-062f-4da0-a167-c3b2bee7aaa5",
   "metadata": {},
   "outputs": [],
   "source": [
    "# with open(r\"T:\\\\T\\\\NetAgnosticsv2\\\\src\\\\data\\\\pca.json\", \"w\") as outfile:\n",
    "#     json.dump(pca_data, outfile)"
   ]
  },
  {
   "cell_type": "code",
   "execution_count": null,
   "id": "16fd9975-b03d-4dbf-84a2-b0a8faabb4e7",
   "metadata": {},
   "outputs": [],
   "source": [
    "# X = df[['sepal_length', 'sepal_width', 'petal_length']]\n",
    "# [['Fan.Embedded.1A', 'Fan.Embedded.2A', 'Fan.Embedded.3A', 'Fan.Embedded.4A', 'Fan.Embedded.1B', 'Fan.Embedded.2B', 'Fan.Embedded.3B', 'Fan.Embedded.4B', 'SystemPowerMetrics', 'iDRAC.Embedded.1#CPU1Temp', 'iDRAC.Embedded.1#CPU2Temp', 'iDRAC.Embedded.1#InletTemp', 'memoryusage', 'memory_used', 'cpu_load']]\n",
    "# # X = df[['sepal_length', 'sepal_width', 'petal_length', 'petal_width']]\n",
    "\n",
    "\n"
   ]
  },
  {
   "cell_type": "code",
   "execution_count": null,
   "id": "7731f03a-9a05-4bf3-b466-3648f25df124",
   "metadata": {},
   "outputs": [],
   "source": [
    "# pca = PCA(n_components=2)\n",
    "# components = pca.fit_transform(X)\n",
    "\n",
    "# fig = px.scatter(components, x=0, y=1, color=df['species'])\n",
    "# fig.show()"
   ]
  },
  {
   "cell_type": "code",
   "execution_count": null,
   "id": "edc478c5-c4f3-4f2d-8053-51a5c1acb162",
   "metadata": {},
   "outputs": [],
   "source": []
  }
 ],
 "metadata": {
  "kernelspec": {
   "display_name": "Python 3 (ipykernel)",
   "language": "python",
   "name": "python3"
  },
  "language_info": {
   "codemirror_mode": {
    "name": "ipython",
    "version": 3
   },
   "file_extension": ".py",
   "mimetype": "text/x-python",
   "name": "python",
   "nbconvert_exporter": "python",
   "pygments_lexer": "ipython3",
   "version": "3.11.4"
  }
 },
 "nbformat": 4,
 "nbformat_minor": 5
}
